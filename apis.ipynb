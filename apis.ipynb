{
 "cells": [
  {
   "cell_type": "markdown",
   "metadata": {},
   "source": [
    "# APIs"
   ]
  },
  {
   "cell_type": "markdown",
   "metadata": {},
   "source": [
    "**Prerequisites:** You need the `requests` package for this lesson.  You should be able to install it with `conda`."
   ]
  },
  {
   "cell_type": "markdown",
   "metadata": {},
   "source": [
    "## Reading Existing Code (Google Books Query)\n",
    " - Uses the Python [`requests` library](https://2.python-requests.org/en/master/)\n",
    " - Uses the [Google Books API](https://developers.google.com/books/docs/v1/using#WorkingVolumes)\n",
    " - Searches for author \"Jake VanderPlas\" (author of my go-to Python data science book)\n",
    " - Prints out a list of book titles that match this query"
   ]
  },
  {
   "cell_type": "code",
   "execution_count": null,
   "metadata": {},
   "outputs": [],
   "source": [
    "import requests\n",
    "\n",
    "response = requests.get(\"https://www.googleapis.com/books/v1/volumes?q=inauthor:Jake+VanderPlas\")\n",
    "\n",
    "if response.status_code == 200:\n",
    "    response_dict = response.json()\n",
    "\n",
    "    books = response_dict[\"items\"]\n",
    "\n",
    "    for book_dict in books:\n",
    "        info_dict = book_dict[\"volumeInfo\"]\n",
    "        print(info_dict[\"title\"])\n",
    "else:\n",
    "    print(\"Error: unable to retrieve books.  Server responded with status code\", response.status_code)"
   ]
  },
  {
   "cell_type": "markdown",
   "metadata": {},
   "source": [
    "## Exercise\n",
    "\n",
    "Use the PokeAPI to get data on Pokemon. Let's first define functions to get information from the API. Provided below is a URL that will get you started with the first 151 Pokemon! Run the cell below to see what we get."
   ]
  },
  {
   "cell_type": "code",
   "execution_count": null,
   "metadata": {},
   "outputs": [],
   "source": [
    "url = 'https://pokeapi.co/api/v2/pokemon/?limit=151'\n",
    "results = requests.get(url).json()['results']\n",
    "results"
   ]
  },
  {
   "cell_type": "markdown",
   "metadata": {},
   "source": [
    "Read the documentation [here](https://pokeapi.co/docs/v2.html) for information on navigating this API and use the API to obtain data to answer the following questions."
   ]
  },
  {
   "cell_type": "markdown",
   "metadata": {},
   "source": [
    "### Accessing Data\n",
    "\n",
    "For any **one** Pokemon, retrieve the following information in a dictionary format with the following keys:\n",
    " - ID\n",
    " - Name\n",
    " - Base experience\n",
    " - Weight\n",
    " - Height\n",
    " - Types\n",
    " - Abilities"
   ]
  },
  {
   "cell_type": "markdown",
   "metadata": {},
   "source": [
    "For `Types` and `Abilities`, you might want to write helper functions to have each attribute just be a list of types and a list of abilities. Your output should look like this:\n",
    "\n",
    "```\n",
    "{'id': 1, \n",
    "'name': 'bulbasaur', \n",
    "'base_experience': 64, \n",
    "'weight': 69, \n",
    "'height': 7, \n",
    "'types': ['poison', 'grass'], \n",
    "'abilities': ['chlorophyll', 'overgrow']}\n",
    "\n",
    "```"
   ]
  },
  {
   "cell_type": "code",
   "execution_count": null,
   "metadata": {},
   "outputs": [],
   "source": [
    "# you may define helper functions for types and abilities here"
   ]
  },
  {
   "cell_type": "code",
   "execution_count": null,
   "metadata": {},
   "outputs": [],
   "source": [
    "def get_pokedata(url):\n",
    "    \n",
    "    \"\"\"\n",
    "    url is a string of the URL that will get you the relevant info from the API\n",
    "    for a single pokemon. \n",
    "    Example: \"https://pokeapi.co/api/v2/pokemon/1/\"\n",
    "    \n",
    "    this function should return the dictionary for ONE pokemon\n",
    "    \n",
    "    \"\"\"\n",
    "    \n",
    "    pass"
   ]
  },
  {
   "cell_type": "markdown",
   "metadata": {},
   "source": [
    "### Pagination\n",
    "\n",
    "Get the same information for the first **151** Pokemon as a list of dictionaries ordered by Pokemon ID. Print the first and last elements of the list. (Hint: Use pagination)\n",
    "\n",
    "Your output should save the list to a variable and look like this:\n",
    "\n",
    "```\n",
    "[{'id': 1, \n",
    "'name': 'bulbasaur', \n",
    "'base_experience': 64, \n",
    "'weight': 69, \n",
    "'height': 7, \n",
    "'types': ['poison', 'grass'], \n",
    "'abilities': ['chlorophyll', 'overgrow']}, \n",
    "{'id': 2, \n",
    "'name': 'ivysaur', \n",
    "'base_experience': 142, \n",
    "'weight': 130, \n",
    "'height': 10, \n",
    "'types': ['poison', 'grass'], \n",
    "'abilities': ['chlorophyll', 'overgrow']}, ... ]\n",
    "\n",
    "```"
   ]
  },
  {
   "cell_type": "code",
   "execution_count": null,
   "metadata": {},
   "outputs": [],
   "source": []
  },
  {
   "cell_type": "markdown",
   "metadata": {},
   "source": [
    "## Bonus Exercise\n",
    "1. Query the [NASA ISS API](http://api.open-notify.org/) and print out the current latitude and longitude of the ISS\n",
    "2. Using iPyLeaflet, make a [Map](https://ipyleaflet.readthedocs.io/en/latest/api_reference/map.html) with a [Marker](https://ipyleaflet.readthedocs.io/en/latest/api_reference/marker.html) at the current location of the ISS"
   ]
  },
  {
   "cell_type": "code",
   "execution_count": null,
   "metadata": {},
   "outputs": [],
   "source": []
  }
 ],
 "metadata": {
  "kernelspec": {
   "display_name": "Python 3",
   "language": "python",
   "name": "python3"
  },
  "language_info": {
   "codemirror_mode": {
    "name": "ipython",
    "version": 3
   },
   "file_extension": ".py",
   "mimetype": "text/x-python",
   "name": "python",
   "nbconvert_exporter": "python",
   "pygments_lexer": "ipython3",
   "version": "3.7.3"
  }
 },
 "nbformat": 4,
 "nbformat_minor": 4
}
